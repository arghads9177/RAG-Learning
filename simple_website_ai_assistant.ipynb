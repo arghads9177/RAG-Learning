{
 "cells": [
  {
   "cell_type": "markdown",
   "id": "0a1fbbcd",
   "metadata": {},
   "source": [
    "# A Simple website AI Assistant with RAG"
   ]
  },
  {
   "cell_type": "code",
   "execution_count": 1,
   "id": "842b5cc7",
   "metadata": {},
   "outputs": [],
   "source": [
    "# Define the list of pages of sonfmeets.com website\n",
    "page_list = [\n",
    "    \"https://softmeets.com/\",\n",
    "    \"https://softmeets.com/automation/\",\n",
    "    \"https://softmeets.com/internet-of-things/\",\n",
    "    \"https://softmeets.com/artificial-intelligence/\",\n",
    "    \"https://softmeets.com/analytics/\",\n",
    "    \"https://softmeets.com/about-us/\",\n",
    "    \"https://softmeets.com/customers/\",\n",
    "    \"https://softmeets.com/partners/\",\n",
    "    \"https://softmeets.com/contact-us/\"\n",
    "    \"https://softmeets.com/vetting-of-detail-project-report-of-automation-of-drinking-water-project-with-national-institute-of-technology-durgapur/\",\n",
    "    \"https://softmeets.com/implementation-of-document-management-system-at-sail-bokaro-steel-plant/\",\n",
    "    \"https://softmeets.com/application-development-system-modernization-and-support-upv-tms/\",\n",
    "    \"https://softmeets.com/barqat/\",\n",
    "    \"https://softmeets.com/rbms/\",\n",
    "    \"https://softmeets.com/upv/\",\n",
    "    \"https://softmeets.com/cms/\",\n",
    "    \"https://softmeets.com/privacy-policy/\"\n",
    "]\n"
   ]
  },
  {
   "cell_type": "markdown",
   "id": "e8e1da88",
   "metadata": {},
   "source": [
    "### Load the contents of web pages"
   ]
  },
  {
   "cell_type": "code",
   "execution_count": 2,
   "id": "c88affc4",
   "metadata": {},
   "outputs": [],
   "source": [
    "# Import libraries\n",
    "from langchain_community.document_loaders import WebBaseLoader\n",
    "import bs4"
   ]
  },
  {
   "cell_type": "code",
   "execution_count": 3,
   "id": "046ead4b",
   "metadata": {},
   "outputs": [],
   "source": [
    "# Load the contents of web pages\n",
    "loader = WebBaseLoader(\n",
    "    web_paths= page_list,\n",
    "    bs_kwargs= {\n",
    "        \"parse_only\": bs4.SoupStrainer([\"h1\", \"h2\", \"h3\", \"p\", \"div class='x-content'\", \"li\"])\n",
    "    },\n",
    "    bs_get_text_kwargs= { \"separator\": \" \\n\", \"strip\": True}\n",
    ")"
   ]
  },
  {
   "cell_type": "code",
   "execution_count": 4,
   "id": "94171981",
   "metadata": {},
   "outputs": [],
   "source": [
    "documents = loader.load()"
   ]
  },
  {
   "cell_type": "code",
   "execution_count": 5,
   "id": "36527574",
   "metadata": {},
   "outputs": [
    {
     "data": {
      "text/plain": [
       "16"
      ]
     },
     "execution_count": 5,
     "metadata": {},
     "output_type": "execute_result"
    }
   ],
   "source": [
    "len(documents)"
   ]
  },
  {
   "cell_type": "code",
   "execution_count": 6,
   "id": "303ffa69",
   "metadata": {},
   "outputs": [
    {
     "name": "stdout",
     "output_type": "stream",
     "text": [
      "Home \n",
      "Innovation \n",
      "Automation \n",
      "Internet of Things \n",
      "Artificial intelligence \n",
      "Analytics \n",
      "About \n",
      "About Us \n",
      "Case Study \n",
      "Customers \n",
      "Partners \n",
      "Contact Us \n",
      "Home \n",
      "Innovation \n",
      "Automation \n",
      "Internet of Things \n",
      "Artificial intelligence \n",
      "Analytics \n",
      "About \n",
      "About Us \n",
      "Case Study \n",
      "Customers \n",
      "Partners \n",
      "Contact Us \n",
      "Automation \n",
      "Our automation solutions leverage advanced technology to perform tasks with minimal human intervention, enhancing efficiency, accuracy, and scalability. Softmeets streamlines workflows, reduces costs, and minimizes errors, all while enabling seamless 24/7 operations. By automating repetitive tasks, we empower organizations to allocate resources to strategic initiatives, enhance safety by managing hazardous processes, and ensure compliance through consistent and reliable execution. \n",
      "With real-time monitoring and predictive analytics, automation drives data-driven decision-making and operational agility, resulting in better productivity, customer satisfaction, and long-term sustainability. \n",
      "Empowering Efficiency, \n",
      "Elevating Accuracy \n",
      "Increased Efficiency \n",
      "Faster Execution: \n",
      "Automation completes tasks faster than manual efforts, reducing process cycle times. \n",
      "24/7 Operation: \n",
      "Automated systems can run continuously without breaks or downtime. \n",
      "Streamlined Workflows: \n",
      "Reduces bottlenecks by automating sequential tasks. \n",
      "Cost Savings \n",
      "Reduced Labor Costs: \n",
      "Minimizes the need for repetitive manual work, allowing employees to focus on strategic tasks. \n",
      "Lower Operational Costs: \n",
      "ptimizes resource usage, such as energy and materials, in industrial automation. \n",
      "Error Reduction: \n",
      "Fewer errors mean lower costs associated with rework or waste. \n",
      "Improved Accuracy \n",
      "Minimized Human Errors: \n",
      "Automation eliminates mistakes caused by fatigue or oversight. \n",
      "Consistent Quality: \n",
      "Ensures uniformity in task execution, enhancing product and service quality. \n",
      "Enhanced Productivity \n",
      "Scalability: \n",
      "Easily handles increased workloads without hiring additional staff. \n",
      "Task Prioritization: \n",
      "Frees up human workers to focus on creative and complex tasks. \n",
      "Faster Decision-Making: \n",
      "Real-time data processing enables quicker responses. \n",
      "Better Compliance and Reporting \n",
      "Regulatory Compliance: \n",
      "Automated systems can be programmed to adhere to specific industry standards and regulations. \n",
      "Audit Trails: \n",
      "Maintains detailed logs of all operations, making compliance reporting easier. \n",
      "Data-Driven Insights \n",
      "Real-Time Monitoring: \n",
      "Sensors and software provide live data for analysis and decision-making. \n",
      "Predictive Analytics: \n",
      "Automation tools can forecast trends and detect potential failures, improving planning. \n",
      "Enhanced Safety \n",
      "Risk Reduction: \n",
      "Automation can take over hazardous tasks, reducing risks to human workers. \n",
      "Remote Monitoring: \n",
      "IoT and SCADA systems allow for remote oversight of dangerous operations. \n",
      "Scalability and Flexibility \n",
      "Adaptability: \n",
      "Easily modify processes to handle new requirements or increased workloads. \n",
      "Integration: \n",
      "Modern automation tools integrate seamlessly with existing systems. \n",
      "Customer Satisfaction \n",
      "Faster Services: \n",
      "Quicker responses and deliveries improve customer experience. \n",
      "Consistency: \n",
      "Ensures reliable service delivery, building customer trust. \n",
      "Long-Term Sustainability \n",
      "Energy Efficiency: \n",
      "Optimized processes consume less energy and reduce waste. \n",
      "Eco-Friendly Solutions: \n",
      "Automated systems can comply with environmental standards more effectively. \n",
      "Delivering Excellence Through \n",
      "Our Core Services \n",
      "PROCESS INSTRUMENTATION \n",
      "CONDITION MONITORING \n",
      "INDUSTRIAL AUTOMATION \n",
      "ENERGY MANAGEMENT \n",
      "INDUSTRIAL IOT & WIRELESS \n",
      "CALIBRATION SERVICES \n",
      "MACHINE COMMUNICATION \n",
      "RETRO FITTING PROJECTS \n",
      "Want to know more about Softmeats? \n",
      "+ (91) 9434 811 929, 0341-3500346 \n",
      "INFO@SOFTMEETS.COM \n",
      "Webel IT Park (3rd Floor), Kalyanpur Satellite Township, Asansol – 713302, Dist – Paschim Bardhaman (W.B). India \n",
      "About \n",
      "Terms & Conditions \n",
      "Privacy Policy \n",
      "Contact \n",
      "© 2005-2024, Softmeets. All Rights Reserved.\n"
     ]
    }
   ],
   "source": [
    "print(documents[1].page_content)"
   ]
  },
  {
   "cell_type": "markdown",
   "id": "69270dac",
   "metadata": {},
   "source": [
    "### Split the documents into chunks"
   ]
  },
  {
   "cell_type": "code",
   "execution_count": 7,
   "id": "cf1a5413",
   "metadata": {},
   "outputs": [],
   "source": [
    "# Import libraries\n",
    "from langchain_text_splitters import RecursiveCharacterTextSplitter"
   ]
  },
  {
   "cell_type": "code",
   "execution_count": 8,
   "id": "fd5d433d",
   "metadata": {},
   "outputs": [],
   "source": [
    "# Define splitter\n",
    "splitter = RecursiveCharacterTextSplitter(chunk_size= 500, chunk_overlap= 50)"
   ]
  },
  {
   "cell_type": "code",
   "execution_count": 9,
   "id": "ecbca46d",
   "metadata": {},
   "outputs": [],
   "source": [
    "# Split the documents\n",
    "splitted_docs = splitter.split_documents(documents)"
   ]
  },
  {
   "cell_type": "code",
   "execution_count": 10,
   "id": "0381d7e4",
   "metadata": {},
   "outputs": [
    {
     "data": {
      "text/plain": [
       "147"
      ]
     },
     "execution_count": 10,
     "metadata": {},
     "output_type": "execute_result"
    }
   ],
   "source": [
    "len(splitted_docs)"
   ]
  },
  {
   "cell_type": "code",
   "execution_count": 11,
   "id": "f9c51a66",
   "metadata": {},
   "outputs": [
    {
     "name": "stdout",
     "output_type": "stream",
     "text": [
      "With real-time monitoring and predictive analytics, automation drives data-driven decision-making and operational agility, resulting in better productivity, customer satisfaction, and long-term sustainability. \n",
      "Empowering Efficiency, \n",
      "Elevating Accuracy \n",
      "Increased Efficiency \n",
      "Faster Execution: \n",
      "Automation completes tasks faster than manual efforts, reducing process cycle times. \n",
      "24/7 Operation: \n",
      "Automated systems can run continuously without breaks or downtime. \n",
      "Streamlined Workflows:\n"
     ]
    }
   ],
   "source": [
    "print(splitted_docs[5].page_content)"
   ]
  },
  {
   "cell_type": "code",
   "execution_count": 12,
   "id": "f365050e",
   "metadata": {},
   "outputs": [
    {
     "name": "stdout",
     "output_type": "stream",
     "text": [
      "Streamlined Workflows: \n",
      "Reduces bottlenecks by automating sequential tasks. \n",
      "Cost Savings \n",
      "Reduced Labor Costs: \n",
      "Minimizes the need for repetitive manual work, allowing employees to focus on strategic tasks. \n",
      "Lower Operational Costs: \n",
      "ptimizes resource usage, such as energy and materials, in industrial automation. \n",
      "Error Reduction: \n",
      "Fewer errors mean lower costs associated with rework or waste. \n",
      "Improved Accuracy \n",
      "Minimized Human Errors:\n"
     ]
    }
   ],
   "source": [
    "print(splitted_docs[6].page_content)"
   ]
  },
  {
   "cell_type": "markdown",
   "id": "350a8e07",
   "metadata": {},
   "source": [
    "### Embedding and ingest in Vector Database"
   ]
  },
  {
   "cell_type": "code",
   "execution_count": 13,
   "id": "fb0a308f",
   "metadata": {},
   "outputs": [],
   "source": [
    "# Import libraries\n",
    "from langchain_huggingface import HuggingFaceEmbeddings\n",
    "from langchain_chroma import Chroma"
   ]
  },
  {
   "cell_type": "code",
   "execution_count": 14,
   "id": "270a72c5",
   "metadata": {},
   "outputs": [],
   "source": [
    "# Define embedding model\n",
    "embeddings = HuggingFaceEmbeddings(model_name=\"sentence-transformers/all-MiniLM-L6-v2\")"
   ]
  },
  {
   "cell_type": "code",
   "execution_count": 15,
   "id": "c7237b43",
   "metadata": {},
   "outputs": [],
   "source": [
    "# Store in in-memory chroma DB\n",
    "vector_db = Chroma.from_documents(\n",
    "    documents= splitted_docs,\n",
    "    embedding= embeddings,\n",
    "    collection_name=\"softmeets_website\"\n",
    ")"
   ]
  },
  {
   "cell_type": "markdown",
   "id": "1209b472",
   "metadata": {},
   "source": [
    "### Define Retriever and RAG Chain"
   ]
  },
  {
   "cell_type": "code",
   "execution_count": 16,
   "id": "98e45e18",
   "metadata": {},
   "outputs": [],
   "source": [
    "# Set Retriever\n",
    "retriever = vector_db.as_retriever()"
   ]
  },
  {
   "cell_type": "code",
   "execution_count": 19,
   "id": "e2104d6b",
   "metadata": {},
   "outputs": [],
   "source": [
    "# Import Libraries\n",
    "from langchain_openai import ChatOpenAI\n",
    "from langchain.schema.runnable import RunnablePassthrough\n",
    "from langchain.schema.output_parser import StrOutputParser\n",
    "from langchain_core.prompts import ChatPromptTemplate"
   ]
  },
  {
   "cell_type": "code",
   "execution_count": 18,
   "id": "933a7bc2",
   "metadata": {},
   "outputs": [],
   "source": [
    "# LLM\n",
    "llm = ChatOpenAI(model=\"gpt-4o\")"
   ]
  },
  {
   "cell_type": "code",
   "execution_count": 20,
   "id": "39cad1e9",
   "metadata": {},
   "outputs": [],
   "source": [
    "# Define Prompt Template\n",
    "template = \"\"\"\n",
    "You are an assistant for question-answering task. Use the following pieces of retrieved context for answering the question.\n",
    "If you don't know the answer, just say you don't know, don't try to make up an answer.\n",
    "Your answer should be to the point and consice.\n",
    "Question: {question}\n",
    "Context: {context}\n",
    "\"\"\"\n",
    "prompt = ChatPromptTemplate.from_template(template)"
   ]
  },
  {
   "cell_type": "code",
   "execution_count": 21,
   "id": "92e82c42",
   "metadata": {},
   "outputs": [],
   "source": [
    "# Define Chain\n",
    "rag_chain = (\n",
    "    { \"context\": retriever, \"question\": RunnablePassthrough()}\n",
    "    | prompt\n",
    "    | llm\n",
    "    | StrOutputParser()\n",
    ")"
   ]
  },
  {
   "cell_type": "markdown",
   "id": "b454f5ab",
   "metadata": {},
   "source": [
    "### Test RAG Chain"
   ]
  },
  {
   "cell_type": "code",
   "execution_count": 22,
   "id": "ecfc03cc",
   "metadata": {},
   "outputs": [
    {
     "data": {
      "text/plain": [
       "'Softmeets Info Solutions Pvt. Ltd. is a company that places significant importance on protecting the privacy and security of personal information. Their privacy policy outlines how they collect, use, and safeguard information provided by users. They collect data entered knowingly on their services, which may include personal details like name, phone number, email address, photograph, and school affiliation, primarily used for notifications. They emphasize strong privacy protections and require users to agree to their Privacy Statement when providing personal information.'"
      ]
     },
     "execution_count": 22,
     "metadata": {},
     "output_type": "execute_result"
    }
   ],
   "source": [
    "rag_chain.invoke(\"Tell me about Softmeets\")"
   ]
  },
  {
   "cell_type": "code",
   "execution_count": 23,
   "id": "b51da389",
   "metadata": {},
   "outputs": [
    {
     "data": {
      "text/plain": [
       "'The office address is Webel IT Park (3rd Floor), Kalyanpur Satellite Township, Asansol – 713302, Dist – Paschim Bardhaman (W.B), India.'"
      ]
     },
     "execution_count": 23,
     "metadata": {},
     "output_type": "execute_result"
    }
   ],
   "source": [
    "rag_chain.invoke(\"Tell me their Office address\")"
   ]
  },
  {
   "cell_type": "code",
   "execution_count": 24,
   "id": "c0b1fea5",
   "metadata": {},
   "outputs": [
    {
     "data": {
      "text/plain": [
       "\"I don't know.\""
      ]
     },
     "execution_count": 24,
     "metadata": {},
     "output_type": "execute_result"
    }
   ],
   "source": [
    "rag_chain.invoke(\"Who are their clients?\")"
   ]
  },
  {
   "cell_type": "code",
   "execution_count": 25,
   "id": "bd3cfc0b",
   "metadata": {},
   "outputs": [
    {
     "data": {
      "text/plain": [
       "'UPV (Unified Plant View) is a system implemented at the SAIL IISCO Steel Plant to automate the production process and provide real-time monitoring and analysis reporting across various departments such as Blast Furnace, Sinter Plant, and Basic Oxygen Furnace. It integrates different plant operations into a single window to facilitate streamlined decision-making, real-time data visualization, process optimization, centralized monitoring, and predictive maintenance capabilities.'"
      ]
     },
     "execution_count": 25,
     "metadata": {},
     "output_type": "execute_result"
    }
   ],
   "source": [
    "rag_chain.invoke(\"Tell me about the UPV?\")"
   ]
  },
  {
   "cell_type": "code",
   "execution_count": 26,
   "id": "f3ff7739",
   "metadata": {},
   "outputs": [
    {
     "data": {
      "text/plain": [
       "'The Rolling Block Management System (RBMS) is an advanced system designed to manage train movements and track maintenance more dynamically and efficiently compared to traditional fixed block signaling systems. It enhances operational safety, optimizes track utilization, and ensures uninterrupted train services while allowing for scheduled maintenance activities. The RBMS increases line capacity, promotes efficient track usage, reduces congestion, and supports eco-friendly operations. It works seamlessly with advanced train control systems like CBTC (Communications-Based Train Control) or ETCS (European Train Control System), utilizing predictive analytics for proactive planning and resource allocation.'"
      ]
     },
     "execution_count": 26,
     "metadata": {},
     "output_type": "execute_result"
    }
   ],
   "source": [
    "rag_chain.invoke(\"Tell me about Rolling Block project\")"
   ]
  },
  {
   "cell_type": "code",
   "execution_count": 27,
   "id": "df7cbecc",
   "metadata": {},
   "outputs": [
    {
     "data": {
      "text/plain": [
       "'They use technologies such as Web and Android platforms, Angular, HTML-5, CSS3 for frontend, and Node.js with Express for the backend. Additionally, they work with innovations in the fields of Automation, Internet of Things, Artificial Intelligence, and Analytics.'"
      ]
     },
     "execution_count": 27,
     "metadata": {},
     "output_type": "execute_result"
    }
   ],
   "source": [
    "rag_chain.invoke(\"Which technologies they use?\")"
   ]
  },
  {
   "cell_type": "code",
   "execution_count": 28,
   "id": "b21991eb",
   "metadata": {},
   "outputs": [
    {
     "data": {
      "text/plain": [
       "\"I don't have specific details on their innovation from the provided context.\""
      ]
     },
     "execution_count": 28,
     "metadata": {},
     "output_type": "execute_result"
    }
   ],
   "source": [
    "rag_chain.invoke(\"Tell me about their innovation\")"
   ]
  },
  {
   "cell_type": "code",
   "execution_count": 29,
   "id": "f6069c00",
   "metadata": {},
   "outputs": [
    {
     "data": {
      "text/plain": [
       "'Yes, they work on IoT (Internet of Things).'"
      ]
     },
     "execution_count": 29,
     "metadata": {},
     "output_type": "execute_result"
    }
   ],
   "source": [
    "rag_chain.invoke(\"Do thay work on IOT?\")"
   ]
  },
  {
   "cell_type": "code",
   "execution_count": 30,
   "id": "cfd29472",
   "metadata": {},
   "outputs": [
    {
     "data": {
      "text/plain": [
       "\"I don't know. The provided context does not contain any information about certifications.\""
      ]
     },
     "execution_count": 30,
     "metadata": {},
     "output_type": "execute_result"
    }
   ],
   "source": [
    "rag_chain.invoke(\"Any certfication do they have?\")"
   ]
  },
  {
   "cell_type": "code",
   "execution_count": 31,
   "id": "83867f35",
   "metadata": {},
   "outputs": [
    {
     "data": {
      "text/plain": [
       "\"I don't know.\""
      ]
     },
     "execution_count": 31,
     "metadata": {},
     "output_type": "execute_result"
    }
   ],
   "source": [
    "rag_chain.invoke(\"What they do in AI?\")"
   ]
  },
  {
   "cell_type": "code",
   "execution_count": null,
   "id": "c3c0d538",
   "metadata": {},
   "outputs": [],
   "source": []
  }
 ],
 "metadata": {
  "kernelspec": {
   "display_name": "rag",
   "language": "python",
   "name": "python3"
  },
  "language_info": {
   "codemirror_mode": {
    "name": "ipython",
    "version": 3
   },
   "file_extension": ".py",
   "mimetype": "text/x-python",
   "name": "python",
   "nbconvert_exporter": "python",
   "pygments_lexer": "ipython3",
   "version": "3.12.9"
  }
 },
 "nbformat": 4,
 "nbformat_minor": 5
}
